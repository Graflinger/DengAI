{
 "cells": [
  {
   "cell_type": "code",
   "execution_count": 194,
   "metadata": {},
   "outputs": [],
   "source": [
    "library(zoo)\n",
    "library(dplyr)\n",
    "library(\"scales\")\n",
    "library(glmnet)\n",
    "library(caret)\n",
    "library(randomForest)"
   ]
  },
  {
   "cell_type": "code",
   "execution_count": 66,
   "metadata": {},
   "outputs": [],
   "source": [
    "#read csv data\n",
    "df_train_features <- read.csv(file=\"dengue_features_train.csv\")\n",
    "\n",
    "df_train_labels <- read.csv(file=\"dengue_labels_train.csv\")\n",
    "\n",
    "df_test_features <- read.csv(file=\"dengue_features_test.csv\")\n"
   ]
  },
  {
   "cell_type": "code",
   "execution_count": 67,
   "metadata": {},
   "outputs": [],
   "source": [
    "#drop week_start_date colum\n",
    "\n",
    "df_train_features$week_start_date <- NULL\n",
    "df_train_labels$week_start_date <- NULL\n",
    "\n",
    "#change Kelvin Columns to Celcius\n",
    "df_train_features$reanalysis_min_air_temp_k <- (df_train_features$reanalysis_min_air_temp_k - 273.15)\n",
    "\n",
    "df_train_features$reanalysis_max_air_temp_k <- (df_train_features$reanalysis_max_air_temp_k - 273.15)\n",
    "\n",
    "df_train_features$reanalysis_dew_point_temp_k <- (df_train_features$reanalysis_dew_point_temp_k - 273.15)\n",
    "\n",
    "df_train_features$reanalysis_air_temp_k <- (df_train_features$reanalysis_air_temp_k - 273.15)\n",
    "\n",
    "#split the data by city\n",
    "\n",
    "df_train_features_sj <- subset(df_train_features, subset=city=='sj')\n",
    "df_train_features_iq <- subset(df_train_features, subset=city=='iq')\n",
    "\n",
    "df_train_labels_sj <- subset(df_train_labels, subset=city=='sj')\n",
    "df_train_labels_iq <- subset(df_train_labels, subset=city=='iq')\n",
    "\n",
    "#drop city column\n",
    "\n",
    "df_train_features_sj <- dplyr::select(df_train_features_sj, -city)\n",
    "df_train_features_iq <- dplyr::select(df_train_features_iq, -city)\n",
    "\n",
    "#fill null values with the mean value of the column\n",
    "df_train_features_sj = na.aggregate(df_train_features_sj)\n",
    "df_train_features_iq = na.aggregate(df_train_features_iq)\n",
    "\n",
    "#drop the correlating features for the San Juan training data\n",
    "df_train_features_sj <- dplyr::select(df_train_features_sj, -reanalysis_avg_temp_k)\n",
    "df_train_features_sj <- dplyr::select(df_train_features_sj, -reanalysis_sat_precip_amt_mm)\n",
    "df_train_features_sj <- dplyr::select(df_train_features_sj, -reanalysis_specific_humidity_g_per_kg)\n",
    "\n"
   ]
  },
  {
   "cell_type": "code",
   "execution_count": 68,
   "metadata": {},
   "outputs": [],
   "source": [
    "#scale data in range from 0 to 1\n",
    "df_train_features_sj <- apply(df_train_features_sj, MARGIN = 2, FUN = function(X) (X - min(X))/diff(range(X)))\n",
    "df_train_features_iq <- apply(df_train_features_iq, MARGIN = 2, FUN = function(X) (X - min(X))/diff(range(X)))"
   ]
  },
  {
   "cell_type": "code",
   "execution_count": 207,
   "metadata": {},
   "outputs": [],
   "source": [
    "x <- as.matrix(df_train_features_sj)\n",
    "y <- as.matrix(as.matrix(df_train_labels_sj[, 4])) \n",
    "\n",
    "\n",
    "## 75% of the sample size\n",
    "smp_size <- floor(0.75 * nrow(x))\n",
    "smp_size_y <- floor(0.75 * nrow(y))\n",
    "## set the seed to make your partition reproducible\n",
    "set.seed(2)\n",
    "train_ind <- sample(seq_len(nrow(x)), size = smp_size)\n",
    "train_ind_y <- sample(seq_len(nrow(y)), size = smp_size_y)\n",
    " \n",
    "x_train <- x[train_ind, ]\n",
    "x_test <- x[-train_ind, ]\n",
    "\n",
    "y_train <- y[train_ind_y, ]\n",
    "y_test <- y[-train_ind_y, ]\n",
    "\n"
   ]
  },
  {
   "cell_type": "code",
   "execution_count": 208,
   "metadata": {},
   "outputs": [],
   "source": [
    "s <- cbind(x, total_cases = y)"
   ]
  },
  {
   "cell_type": "code",
   "execution_count": 209,
   "metadata": {},
   "outputs": [],
   "source": [
    "mae <- function(error) return(mean(abs(error)) )"
   ]
  },
  {
   "cell_type": "code",
   "execution_count": 210,
   "metadata": {},
   "outputs": [],
   "source": [
    "colnames(s)[20] <- \"total_cases\""
   ]
  },
  {
   "cell_type": "code",
   "execution_count": 211,
   "metadata": {},
   "outputs": [],
   "source": [
    "#Predicting values for San Juan"
   ]
  },
  {
   "cell_type": "code",
   "execution_count": 223,
   "metadata": {},
   "outputs": [
    {
     "name": "stdout",
     "output_type": "stream",
     "text": [
      "[1] 5.107189\n"
     ]
    }
   ],
   "source": [
    "#Randomly shuffle the data\n",
    "s<-s[sample(nrow(s)),]\n",
    "\n",
    "score = 0\n",
    "#Create 10 equally size folds\n",
    "folds <- cut(seq(1,nrow(s)),breaks=10,labels=FALSE)\n",
    "\n",
    "#Perform 10 fold cross validation\n",
    "for(i in 1:10){\n",
    "    #Segement your data by fold using the which() function \n",
    "    testIndexes <- which(folds==i,arr.ind=TRUE)\n",
    "    testData <- s[testIndexes, ]\n",
    "    trainData <- s[-testIndexes, ]\n",
    "    \n",
    "    ridge_mod = glmnet(trainData[,c(1:(ncol(testData) - 1))], \n",
    "                   trainData[, 20], \n",
    "                   alpha = 0, \n",
    "                   lambda = bestlam)\n",
    "    ridge_pred = predict(ridge_mod, s = bestlam, newx = testData[,c(1:(ncol(testData) - 1))])\n",
    "    \n",
    "\n",
    "    score = score + sqrt(mae(testData[,20] - ridge_pred))\n",
    "}\n",
    "\n",
    "print(score/10)"
   ]
  },
  {
   "cell_type": "code",
   "execution_count": 166,
   "metadata": {},
   "outputs": [
    {
     "name": "stdout",
     "output_type": "stream",
     "text": [
      "[1] 5.091253\n"
     ]
    }
   ],
   "source": [
    "score = 0\n",
    "#Create 10 equally size folds\n",
    "folds <- cut(seq(1,nrow(s)),breaks=10,labels=FALSE)\n",
    "\n",
    "#Perform 10 fold cross validation\n",
    "for(i in 1:10){\n",
    "    #Segement your data by fold using the which() function \n",
    "    testIndexes <- which(folds==i,arr.ind=TRUE)\n",
    "    testData <- s[testIndexes, ]\n",
    "    trainData <- s[-testIndexes, ]\n",
    "    \n",
    "    lasso_mod = glmnet(trainData[,c(1:(ncol(testData) - 1))], \n",
    "                   trainData[, 20], \n",
    "                   alpha = 1, \n",
    "                   lambda = bestlam)\n",
    "    lasso_pred = predict(ridge_mod, s = bestlam, newx = testData[,c(1:(ncol(testData) - 1))])\n",
    "    \n",
    "\n",
    "    score = score + sqrt(mae(testData[,20] - lasso_pred))\n",
    "    \n",
    "}\n",
    "\n",
    "print(score/10)"
   ]
  },
  {
   "cell_type": "code",
   "execution_count": 167,
   "metadata": {},
   "outputs": [
    {
     "name": "stdout",
     "output_type": "stream",
     "text": [
      "[1] 4.88884\n"
     ]
    }
   ],
   "source": [
    "score = 0\n",
    "#Create 10 equally size folds\n",
    "folds <- cut(seq(1,nrow(s)),breaks=10,labels=FALSE)\n",
    "\n",
    "#Perform 10 fold cross validation\n",
    "for(i in 1:10){\n",
    "    #Segement your data by fold using the which() function \n",
    "    testIndexes <- which(folds==i,arr.ind=TRUE)\n",
    "    testData <- s[testIndexes, ]\n",
    "    trainData <- s[-testIndexes, ]\n",
    "    \n",
    "    knn_mod= knnreg(trainData[,c(1:(ncol(testData) - 1))],trainData[, 20], k = 5)\n",
    "    knn_pred = predict(knn_mod, newdata = testData[,c(1:(ncol(testData) - 1))])\n",
    "\n",
    "    score = score + sqrt(mae(testData[,20] - knn_pred)) \n",
    "}\n",
    "print(score/10)"
   ]
  },
  {
   "cell_type": "code",
   "execution_count": 177,
   "metadata": {},
   "outputs": [
    {
     "data": {
      "image/png": "[encoded data removed]",
      "text/plain": [
       "Plot with title \"cross.sell.rf\""
      ]
     },
     "metadata": {},
     "output_type": "display_data"
    }
   ],
   "source": [
    "cross.sell.rf <- randomForest(trainData[,c(1:(ncol(testData) - 1))],\n",
    "                              trainData[, 20],\n",
    "                              ntree=500,\n",
    "                              importance=T)\n",
    " \n",
    "plot(cross.sell.rf)"
   ]
  },
  {
   "cell_type": "code",
   "execution_count": 193,
   "metadata": {},
   "outputs": [
    {
     "name": "stdout",
     "output_type": "stream",
     "text": [
      "[1] 4.3951\n"
     ]
    }
   ],
   "source": [
    "score = 0\n",
    "#Create 10 equally size folds\n",
    "folds <- cut(seq(1,nrow(s)),breaks=10,labels=FALSE)\n",
    "\n",
    "#Perform 10 fold cross validation\n",
    "for(i in 1:10){\n",
    "    #Segement your data by fold using the which() function \n",
    "    testIndexes <- which(folds==i,arr.ind=TRUE)\n",
    "    testData <- s[testIndexes, ]\n",
    "    trainData <- s[-testIndexes, ]\n",
    "    \n",
    "    randomForest_mod <- randomForest(trainData[,c(1:(ncol(testData) - 1))],\n",
    "                              trainData[, 20],\n",
    "                              ntree=72,\n",
    "                              importance=T)\n",
    "    \n",
    "    randomForest_pred = predict(randomForest_mod, newdata = testData[,c(1:(ncol(testData) - 1))])\n",
    "\n",
    "    score = score + sqrt(mae(testData[,20] - randomForest_pred)) \n",
    "}\n",
    "print(score/10)\n",
    "\n"
   ]
  },
  {
   "cell_type": "code",
   "execution_count": null,
   "metadata": {},
   "outputs": [],
   "source": [
    "#Predicting Values for Iquitos"
   ]
  },
  {
   "cell_type": "code",
   "execution_count": 247,
   "metadata": {},
   "outputs": [],
   "source": [
    "x <- as.matrix(df_train_features_iq)\n",
    "y <- as.matrix(as.matrix(df_train_labels_iq[, 4])) \n",
    "\n",
    "\n",
    "t <- cbind(x, total_cases = y)\n",
    "colnames(s)[ncol(s)] <- \"total_cases\""
   ]
  },
  {
   "cell_type": "code",
   "execution_count": 249,
   "metadata": {},
   "outputs": [
    {
     "name": "stdout",
     "output_type": "stream",
     "text": [
      "[1] 2.526075\n"
     ]
    }
   ],
   "source": [
    "#Randomly shuffle the data\n",
    "t<-t[sample(nrow(s)),]\n",
    "\n",
    "score = 0\n",
    "#Create 10 equally size folds\n",
    "folds <- cut(seq(1,nrow(t)),breaks=10,labels=FALSE)\n",
    "\n",
    "#Perform 10 fold cross validation\n",
    "for(i in 1:10){\n",
    "    #Segement your data by fold using the which() function \n",
    "    testIndexes <- which(folds==i,arr.ind=TRUE)\n",
    "    testData <- t[testIndexes, ]\n",
    "    trainData <- t[-testIndexes, ]\n",
    "    \n",
    "    ridge_mod = glmnet(trainData[,c(1:(ncol(testData) - 1))], \n",
    "                   trainData[, ncol(trainData)], \n",
    "                   alpha = 0, \n",
    "                   lambda = bestlam)\n",
    "    ridge_pred = predict(ridge_mod, s = bestlam, newx = testData[,c(1:(ncol(testData) - 1))])\n",
    "    \n",
    "\n",
    "    score = score + sqrt(mae(testData[, ncol(trainData)] - ridge_pred))\n",
    "}\n",
    "\n",
    "print(score/10)"
   ]
  },
  {
   "cell_type": "code",
   "execution_count": 250,
   "metadata": {},
   "outputs": [
    {
     "name": "stdout",
     "output_type": "stream",
     "text": [
      "[1] 2.535558\n"
     ]
    }
   ],
   "source": [
    "score = 0\n",
    "#Create 10 equally size folds\n",
    "folds <- cut(seq(1,nrow(s)),breaks=10,labels=FALSE)\n",
    "\n",
    "#Perform 10 fold cross validation\n",
    "for(i in 1:10){\n",
    "    #Segement your data by fold using the which() function \n",
    "    testIndexes <- which(folds==i,arr.ind=TRUE)\n",
    "    testData <- s[testIndexes, ]\n",
    "    trainData <- s[-testIndexes, ]\n",
    "    \n",
    "    lasso_mod = glmnet(trainData[,c(1:(ncol(testData) - 1))], \n",
    "                   trainData[,  ncol(trainData)], \n",
    "                   alpha = 1, \n",
    "                   lambda = bestlam)\n",
    "    lasso_pred = predict(ridge_mod, s = bestlam, newx = testData[,c(1:(ncol(testData) - 1))])\n",
    "    \n",
    "\n",
    "    score = score + sqrt(mae(testData[, ncol(trainData)] - lasso_pred))\n",
    "    \n",
    "}\n",
    "\n",
    "print(score/10)"
   ]
  },
  {
   "cell_type": "code",
   "execution_count": 251,
   "metadata": {},
   "outputs": [
    {
     "name": "stdout",
     "output_type": "stream",
     "text": [
      "[1] 2.494677\n"
     ]
    }
   ],
   "source": [
    "score = 0\n",
    "#Create 10 equally size folds\n",
    "folds <- cut(seq(1,nrow(s)),breaks=10,labels=FALSE)\n",
    "\n",
    "#Perform 10 fold cross validation\n",
    "for(i in 1:10){\n",
    "    #Segement your data by fold using the which() function \n",
    "    testIndexes <- which(folds==i,arr.ind=TRUE)\n",
    "    testData <- s[testIndexes, ]\n",
    "    trainData <- s[-testIndexes, ]\n",
    "    \n",
    "    knn_mod= knnreg(trainData[,c(1:(ncol(testData) - 1))],trainData[,  ncol(trainData)], k = 5)\n",
    "    knn_pred = predict(knn_mod, newdata = testData[,c(1:(ncol(testData) - 1))])\n",
    "\n",
    "    score = score + sqrt(mae(testData[, ncol(trainData)] - knn_pred)) \n",
    "}\n",
    "print(score/10)"
   ]
  },
  {
   "cell_type": "code",
   "execution_count": 252,
   "metadata": {},
   "outputs": [
    {
     "data": {
      "image/png": "[encoded data removed]",
      "text/plain": [
       "Plot with title \"cross.sell.rf\""
      ]
     },
     "metadata": {},
     "output_type": "display_data"
    }
   ],
   "source": [
    "cross.sell.rf <- randomForest(trainData[,c(1:(ncol(testData) - 1))],\n",
    "                              trainData[,  ncol(trainData)],\n",
    "                              ntree=500,\n",
    "                              importance=T)\n",
    " \n",
    "plot(cross.sell.rf)"
   ]
  },
  {
   "cell_type": "code",
   "execution_count": 254,
   "metadata": {},
   "outputs": [
    {
     "name": "stdout",
     "output_type": "stream",
     "text": [
      "[1] 2.431652\n"
     ]
    }
   ],
   "source": [
    "score = 0\n",
    "#Create 10 equally size folds\n",
    "folds <- cut(seq(1,nrow(s)),breaks=10,labels=FALSE)\n",
    "\n",
    "#Perform 10 fold cross validation\n",
    "for(i in 1:10){\n",
    "    #Segement your data by fold using the which() function \n",
    "    testIndexes <- which(folds==i,arr.ind=TRUE)\n",
    "    testData <- s[testIndexes, ]\n",
    "    trainData <- s[-testIndexes, ]\n",
    "    \n",
    "    randomForest_mod <- randomForest(trainData[,c(1:(ncol(testData) - 1))],\n",
    "                              trainData[,  ncol(trainData)],\n",
    "                              ntree=120,\n",
    "                              importance=T)\n",
    "    \n",
    "    randomForest_pred = predict(randomForest_mod, newdata = testData[,c(1:(ncol(testData) - 1))])\n",
    "\n",
    "    score = score + sqrt(mae(testData[, ncol(trainData)] - randomForest_pred)) \n",
    "}\n",
    "print(score/10)\n",
    "\n"
   ]
  },
  {
   "cell_type": "code",
   "execution_count": null,
   "metadata": {},
   "outputs": [],
   "source": []
  },
  {
   "cell_type": "code",
   "execution_count": null,
   "metadata": {},
   "outputs": [],
   "source": []
  }
 ],
 "metadata": {
  "kernelspec": {
   "display_name": "R",
   "language": "R",
   "name": "ir"
  },
  "language_info": {
   "codemirror_mode": "r",
   "file_extension": ".r",
   "mimetype": "text/x-r-source",
   "name": "R",
   "pygments_lexer": "r",
   "version": "3.5.0"
  }
 },
 "nbformat": 4,
 "nbformat_minor": 2
}
